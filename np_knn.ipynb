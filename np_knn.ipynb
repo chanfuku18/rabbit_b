{
 "cells": [
  {
   "cell_type": "markdown",
   "metadata": {
    "colab_type": "text",
    "id": "0G7vJ7LFGguZ"
   },
   "source": [
    "# k近傍法"
   ]
  },
  {
   "cell_type": "code",
   "execution_count": 1,
   "metadata": {
    "colab": {},
    "colab_type": "code",
    "id": "SOWJiKHMGgua"
   },
   "outputs": [],
   "source": [
    "%matplotlib inline\n",
    "import numpy as np\n",
    "import matplotlib.pyplot as plt\n",
    "from scipy import stats"
   ]
  },
  {
   "cell_type": "markdown",
   "metadata": {
    "colab_type": "text",
    "id": "-fkddOuWGgud"
   },
   "source": [
    "## 訓練データ生成"
   ]
  },
  {
   "cell_type": "code",
   "execution_count": 2,
   "metadata": {
    "colab": {},
    "colab_type": "code",
    "id": "BbukYNxeGgue"
   },
   "outputs": [],
   "source": [
    "def gen_data():\n",
    "    x0 = np.random.normal(size=50).reshape(-1, 2) - 1\n",
    "    x1 = np.random.normal(size=50).reshape(-1, 2) + 1.\n",
    "    x_train = np.concatenate([x0, x1])\n",
    "    y_train = np.concatenate([np.zeros(25), np.ones(25)]).astype(np.int)\n",
    "    return x_train, y_train"
   ]
  },
  {
   "cell_type": "code",
   "execution_count": 3,
   "metadata": {
    "colab": {
     "base_uri": "https://localhost:8080/",
     "height": 282
    },
    "colab_type": "code",
    "executionInfo": {
     "elapsed": 1046,
     "status": "ok",
     "timestamp": 1572777512074,
     "user": {
      "displayName": "Airi Hashimoto",
      "photoUrl": "https://lh3.googleusercontent.com/a-/AAuE7mDSXAfnqZF9DjfZ8lsyYX-HgdsbuacfyZY6M6sE0Q=s64",
      "userId": "18358668999492303969"
     },
     "user_tz": -540
    },
    "id": "1e60BMXgGgug",
    "outputId": "6692c958-53d4-4df3-b7ca-d129524323d8"
   },
   "outputs": [
    {
     "data": {
      "text/plain": [
       "<matplotlib.collections.PathCollection at 0x7ff432c764a8>"
      ]
     },
     "execution_count": 3,
     "metadata": {},
     "output_type": "execute_result"
    },
    {
     "data": {
      "image/png": "[encoded data removed]",
      "text/plain": [
       "<Figure size 432x288 with 1 Axes>"
      ]
     },
     "metadata": {
      "needs_background": "light"
     },
     "output_type": "display_data"
    }
   ],
   "source": [
    "X_train, ys_train = gen_data()\n",
    "plt.scatter(X_train[:, 0], X_train[:, 1], c=ys_train)"
   ]
  },
  {
   "cell_type": "markdown",
   "metadata": {
    "colab_type": "text",
    "collapsed": true,
    "id": "zcWhJdzVGgui"
   },
   "source": [
    "## 学習"
   ]
  },
  {
   "cell_type": "markdown",
   "metadata": {
    "colab_type": "text",
    "id": "wDG3d8y6Gguj"
   },
   "source": [
    "陽に訓練ステップはない"
   ]
  },
  {
   "cell_type": "markdown",
   "metadata": {
    "colab_type": "text",
    "id": "fMlLy_YwGguk"
   },
   "source": [
    "## 予測"
   ]
  },
  {
   "cell_type": "markdown",
   "metadata": {
    "colab_type": "text",
    "id": "glejv40HGguk"
   },
   "source": [
    "予測するデータ点との、距離が最も近い$k$個の、訓練データのラベルの最頻値を割り当てる"
   ]
  },
  {
   "cell_type": "code",
   "execution_count": 4,
   "metadata": {
    "colab": {},
    "colab_type": "code",
    "id": "XDj_GUggGgul"
   },
   "outputs": [],
   "source": [
    "def distance(x1, x2):\n",
    "    return np.sum((x1 - x2)**2, axis=1)\n",
    "\n",
    "def knc_predict(n_neighbors, x_train, y_train, X_test):\n",
    "    y_pred = np.empty(len(X_test), dtype=y_train.dtype)\n",
    "    for i, x in enumerate(X_test):\n",
    "        distances = distance(x, X_train)\n",
    "        nearest_index = distances.argsort()[:n_neighbors]\n",
    "        mode, _ = stats.mode(y_train[nearest_index])\n",
    "        y_pred[i] = mode\n",
    "    return y_pred\n",
    "\n",
    "def plt_resut(x_train, y_train, y_pred):\n",
    "    xx0, xx1 = np.meshgrid(np.linspace(-5, 5, 100), np.linspace(-5, 5, 100))\n",
    "    xx = np.array([xx0, xx1]).reshape(2, -1).T\n",
    "    plt.scatter(x_train[:, 0], x_train[:, 1], c=y_train)\n",
    "    plt.contourf(xx0, xx1, y_pred.reshape(100, 100).astype(dtype=np.float), alpha=0.2, levels=np.linspace(0, 1, 3))"
   ]
  },
  {
   "cell_type": "code",
   "execution_count": 13,
   "metadata": {
    "colab": {
     "base_uri": "https://localhost:8080/",
     "height": 265
    },
    "colab_type": "code",
    "executionInfo": {
     "elapsed": 2948,
     "status": "ok",
     "timestamp": 1572777520650,
     "user": {
      "displayName": "Airi Hashimoto",
      "photoUrl": "https://lh3.googleusercontent.com/a-/AAuE7mDSXAfnqZF9DjfZ8lsyYX-HgdsbuacfyZY6M6sE0Q=s64",
      "userId": "18358668999492303969"
     },
     "user_tz": -540
    },
    "id": "PuD8ITzOGgum",
    "outputId": "397d7781-f081-4cf1-c8b9-8cc46fb0d673"
   },
   "outputs": [
    {
     "data": {
      "image/png": "[encoded data removed]",
      "text/plain": [
       "<Figure size 432x288 with 1 Axes>"
      ]
     },
     "metadata": {
      "needs_background": "light"
     },
     "output_type": "display_data"
    }
   ],
   "source": [
    "n_neighbors = 1\n",
    "\n",
    "xx0, xx1 = np.meshgrid(np.linspace(-5, 5, 100), np.linspace(-5, 5, 100))\n",
    "X_test = np.array([xx0, xx1]).reshape(2, -1).T\n",
    "\n",
    "y_pred = knc_predict(n_neighbors, X_train, ys_train, X_test)\n",
    "plt_resut(X_train, ys_train, y_pred)"
   ]
  },
  {
   "cell_type": "markdown",
   "metadata": {
    "colab_type": "text",
    "id": "sg3X0mnZGguo"
   },
   "source": [
    "## numpy実装"
   ]
  },
  {
   "cell_type": "code",
   "execution_count": 6,
   "metadata": {
    "colab": {},
    "colab_type": "code",
    "id": "i2UkN_UomVem"
   },
   "outputs": [],
   "source": [
    "xx0, xx1 = np.meshgrid(np.linspace(-5, 5, 100), np.linspace(-5, 5, 100))\n",
    "xx = np.array([xx0, xx1]).reshape(2, -1).T"
   ]
  },
  {
   "cell_type": "code",
   "execution_count": 7,
   "metadata": {
    "colab": {
     "base_uri": "https://localhost:8080/",
     "height": 265
    },
    "colab_type": "code",
    "executionInfo": {
     "elapsed": 1746,
     "status": "ok",
     "timestamp": 1572777615880,
     "user": {
      "displayName": "Airi Hashimoto",
      "photoUrl": "https://lh3.googleusercontent.com/a-/AAuE7mDSXAfnqZF9DjfZ8lsyYX-HgdsbuacfyZY6M6sE0Q=s64",
      "userId": "18358668999492303969"
     },
     "user_tz": -540
    },
    "id": "AiaA-7lyGgup",
    "outputId": "7fd8358c-9132-4b93-ad33-b9379239592a"
   },
   "outputs": [
    {
     "data": {
      "image/png": "[encoded data removed]",
      "text/plain": [
       "<Figure size 432x288 with 1 Axes>"
      ]
     },
     "metadata": {
      "needs_background": "light"
     },
     "output_type": "display_data"
    }
   ],
   "source": [
    "from sklearn.neighbors import KNeighborsClassifier\n",
    "knc = KNeighborsClassifier(n_neighbors=n_neighbors).fit(X_train, ys_train)\n",
    "plt_resut(X_train, ys_train, knc.predict(xx))"
   ]
  }
 ],
 "metadata": {
  "accelerator": "GPU",
  "colab": {
   "collapsed_sections": [],
   "name": "np_knn.ipynb",
   "provenance": [],
   "toc_visible": true
  },
  "kernelspec": {
   "display_name": "Python 3",
   "language": "python",
   "name": "python3"
  },
  "language_info": {
   "codemirror_mode": {
    "name": "ipython",
    "version": 3
   },
   "file_extension": ".py",
   "mimetype": "text/x-python",
   "name": "python",
   "nbconvert_exporter": "python",
   "pygments_lexer": "ipython3",
   "version": "3.6.9"
  }
 },
 "nbformat": 4,
 "nbformat_minor": 1
}
